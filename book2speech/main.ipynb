{
 "cells": [
  {
   "cell_type": "code",
   "execution_count": 5,
   "metadata": {},
   "outputs": [],
   "source": [
    "import matplotlib.pyplot as plt\n",
    "import pandas as pd\n",
    "\n",
    "import constants"
   ]
  },
  {
   "cell_type": "code",
   "execution_count": 11,
   "metadata": {},
   "outputs": [],
   "source": [
    "columns = constants.KEYS + constants.METRICS\n",
    "filename = \"../results/results\""
   ]
  },
  {
   "cell_type": "code",
   "execution_count": 53,
   "metadata": {},
   "outputs": [],
   "source": [
    "df = pd.read_csv(filename, names=columns, index_col=False)"
   ]
  },
  {
   "cell_type": "code",
   "execution_count": 64,
   "metadata": {},
   "outputs": [],
   "source": [
    "metrics = df.iloc[:, 11:]"
   ]
  },
  {
   "cell_type": "code",
   "execution_count": 65,
   "metadata": {},
   "outputs": [
    {
     "name": "stdout",
     "output_type": "stream",
     "text": [
      "ellapsed    6.269189\n",
      "wer         0.263034\n",
      "mer         0.195223\n",
      "wil         0.248460\n",
      "wip         0.751540\n",
      "dtype: float64\n",
      "ellapsed    9.095800\n",
      "wer         0.276129\n",
      "mer         0.208860\n",
      "wil         0.260676\n",
      "wip         0.739324\n",
      "dtype: float64\n",
      "ellapsed    8.017363\n",
      "wer         0.512304\n",
      "mer         0.223292\n",
      "wil         0.274107\n",
      "wip         0.725893\n",
      "dtype: float64\n",
      "ellapsed    6.612957\n",
      "wer         0.594483\n",
      "mer         0.203822\n",
      "wil         0.262014\n",
      "wip         0.737986\n",
      "dtype: float64\n",
      "ellapsed    4.312745\n",
      "wer         2.654898\n",
      "mer         0.248040\n",
      "wil         0.295158\n",
      "wip         0.704842\n",
      "dtype: float64\n",
      "ellapsed    6.861304\n",
      "wer         1.514432\n",
      "mer         0.246505\n",
      "wil         0.285241\n",
      "wip         0.714759\n",
      "dtype: float64\n",
      "ellapsed    6.419711\n",
      "wer         0.283470\n",
      "mer         0.185174\n",
      "wil         0.228995\n",
      "wip         0.771005\n",
      "dtype: float64\n",
      "ellapsed    4.806309\n",
      "wer         0.368777\n",
      "mer         0.172593\n",
      "wil         0.216420\n",
      "wip         0.783580\n",
      "dtype: float64\n",
      "ellapsed    6.714651\n",
      "wer         4.594873\n",
      "mer         0.246134\n",
      "wil         0.284986\n",
      "wip         0.715014\n",
      "dtype: float64\n",
      "ellapsed    7.501577\n",
      "wer         0.221350\n",
      "mer         0.165495\n",
      "wil         0.211805\n",
      "wip         0.788195\n",
      "dtype: float64\n",
      "ellapsed    6.278756\n",
      "wer         0.181971\n",
      "mer         0.154854\n",
      "wil         0.200583\n",
      "wip         0.799417\n",
      "dtype: float64\n",
      "ellapsed    5.061383\n",
      "wer         1.740230\n",
      "mer         0.210510\n",
      "wil         0.257795\n",
      "wip         0.742205\n",
      "dtype: float64\n",
      "ellapsed    6.474079\n",
      "wer         0.197224\n",
      "mer         0.165058\n",
      "wil         0.210856\n",
      "wip         0.789144\n",
      "dtype: float64\n",
      "ellapsed    8.392500\n",
      "wer         0.216205\n",
      "mer         0.172381\n",
      "wil         0.219693\n",
      "wip         0.780307\n",
      "dtype: float64\n",
      "ellapsed    7.463401\n",
      "wer         0.186335\n",
      "mer         0.157253\n",
      "wil         0.205701\n",
      "wip         0.794299\n",
      "dtype: float64\n"
     ]
    }
   ],
   "source": [
    "for i in range(15):\n",
    "    print(metrics[i::15].mean())"
   ]
  }
 ],
 "metadata": {
  "kernelspec": {
   "display_name": "Python 3",
   "language": "python",
   "name": "python3"
  },
  "language_info": {
   "codemirror_mode": {
    "name": "ipython",
    "version": 3
   },
   "file_extension": ".py",
   "mimetype": "text/x-python",
   "name": "python",
   "nbconvert_exporter": "python",
   "pygments_lexer": "ipython3",
   "version": "3.8.5"
  }
 },
 "nbformat": 4,
 "nbformat_minor": 4
}
